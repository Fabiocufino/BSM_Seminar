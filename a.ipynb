{
  "cells": [
    {
      "cell_type": "raw",
      "metadata": {},
      "source": [
        "---\n",
        "title: \"3D Plot of the Higgs Potential\"\n",
        "format: html\n",
        "---"
      ],
      "id": "e8b01768"
    },
    {
      "cell_type": "markdown",
      "metadata": {},
      "source": [
        "```{html}\n",
        "<script src=\"https://cdn.plot.ly/plotly-latest.min.js\"></script>\n",
        "<div id=\"higgs-plot\"></div>\n",
        "<script>\n",
        "  function higgsPotential(phi1, phi2, lambda, v) {\n",
        "    return lambda * (phi1 * phi1 + phi2 * phi2 - v * v) * (phi1 * phi1 + phi2 * phi2 - v * v);\n",
        "  }\n",
        "\n",
        "  var phi1 = [];\n",
        "  var phi2 = [];\n",
        "  var V = [];\n",
        "  var lambda = 1;\n",
        "  var v = 1;\n",
        "\n",
        "  var step = 0.1;\n",
        "  for (var i = -2; i <= 2; i += step) {\n",
        "    var rowPhi1 = [];\n",
        "    var rowPhi2 = [];\n",
        "    var rowV = [];\n",
        "    for (var j = -2; j <= 2; j += step) {\n",
        "      rowPhi1.push(i);\n",
        "      rowPhi2.push(j);\n",
        "      rowV.push(higgsPotential(i, j, lambda, v));\n",
        "    }\n",
        "    phi1.push(rowPhi1);\n",
        "    phi2.push(rowPhi2);\n",
        "    V.push(rowV);\n",
        "  }\n",
        "\n",
        "  var data = [{\n",
        "    x: phi1,\n",
        "    y: phi2,\n",
        "    z: V,\n",
        "    type: 'surface'\n",
        "  }];\n",
        "\n",
        "  var layout = {\n",
        "    title: '3D Plot of the Higgs Potential',\n",
        "    scene: {\n",
        "      xaxis: { title: 'Phi1' },\n",
        "      yaxis: { title: 'Phi2' },\n",
        "      zaxis: { title: 'V(Phi1, Phi2)' }\n",
        "    }\n",
        "  };\n",
        "\n",
        "  Plotly.newPlot('higgs-plot', data, layout);\n",
        "</script>"
      ],
      "id": "4f281529"
    }
  ],
  "metadata": {
    "kernelspec": {
      "name": "python3",
      "language": "python",
      "display_name": "Python 3 (ipykernel)"
    }
  },
  "nbformat": 4,
  "nbformat_minor": 5
}